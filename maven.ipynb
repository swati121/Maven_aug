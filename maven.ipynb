{
 "cells": [
  {
   "cell_type": "code",
   "execution_count": 35,
   "id": "a0d468a2-94c9-4105-9189-aa482fb9d839",
   "metadata": {},
   "outputs": [],
   "source": [
    "\n",
    "#libraries\n",
    "import numpy as np\n",
    "import pandas as pd\n",
    "\n",
    "#pd.set_option('display.max_columns', None)  # Show all columns\n",
    "#pd.set_option('display.expand_frame_repr', False)  # Prevent line-wrapping of wide DataFrames\n",
    "\n",
    "#display the result completely\n",
    "#from IPython.display import display, HTML  # Updated import statement\n",
    "#display(HTML(\"<style>.output_wrapper, .output {overflow-y: scroll; max-height: 10000px;}</style>\"))\n"
   ]
  },
  {
   "cell_type": "code",
   "execution_count": 37,
   "id": "9c354fb7-0e2a-4ae7-9235-4463a0daf785",
   "metadata": {},
   "outputs": [
    {
     "name": "stdout",
     "output_type": "stream",
     "text": [
      "                            customer_id  became_member_on gender  age    income\n",
      "0      68be06ca386d4c31939f3a4f0e3dd783          20170212    NaN  118       NaN\n",
      "1      0610b486422d4921ae7d2bf64640c50b          20170715      F   55  112000.0\n",
      "2      38fe809add3b4fcf9315a9694bb96ff5          20180712    NaN  118       NaN\n",
      "3      78afa995795e4d85b5d9ceeca43f5fef          20170509      F   75  100000.0\n",
      "4      a03223e636434f42ac4c3df47e8bac43          20170804    NaN  118       NaN\n",
      "...                                 ...               ...    ...  ...       ...\n",
      "16995  6d5f3a774f3d4714ab0c092238f3a1d7          20180604      F   45   54000.0\n",
      "16996  2cb4f97358b841b9a9773a7aa05a9d77          20180713      M   61   72000.0\n",
      "16997  01d26f638c274aa0b965d24cefe3183f          20170126      M   49   73000.0\n",
      "16998  9dc1421481194dcd9400aec7c9ae6366          20160307      F   83   50000.0\n",
      "16999  e4052622e5ba45a8b96b59aba68cf068          20170722      F   62   82000.0\n",
      "\n",
      "[17000 rows x 5 columns]\n",
      "<bound method DataFrame.info of                             customer_id  became_member_on gender  age    income\n",
      "0      68be06ca386d4c31939f3a4f0e3dd783          20170212    NaN  118       NaN\n",
      "1      0610b486422d4921ae7d2bf64640c50b          20170715      F   55  112000.0\n",
      "2      38fe809add3b4fcf9315a9694bb96ff5          20180712    NaN  118       NaN\n",
      "3      78afa995795e4d85b5d9ceeca43f5fef          20170509      F   75  100000.0\n",
      "4      a03223e636434f42ac4c3df47e8bac43          20170804    NaN  118       NaN\n",
      "...                                 ...               ...    ...  ...       ...\n",
      "16995  6d5f3a774f3d4714ab0c092238f3a1d7          20180604      F   45   54000.0\n",
      "16996  2cb4f97358b841b9a9773a7aa05a9d77          20180713      M   61   72000.0\n",
      "16997  01d26f638c274aa0b965d24cefe3183f          20170126      M   49   73000.0\n",
      "16998  9dc1421481194dcd9400aec7c9ae6366          20160307      F   83   50000.0\n",
      "16999  e4052622e5ba45a8b96b59aba68cf068          20170722      F   62   82000.0\n",
      "\n",
      "[17000 rows x 5 columns]>\n"
     ]
    }
   ],
   "source": [
    "# load the datasets\n",
    "\n",
    "# tip - if we are importing .csv file, we don't need raw string notation. Just change the backward slash (\\) to forward slash (/)\n",
    "\n",
    "c1 = pd.read_csv(\"C:/Users/1993s/OneDrive/Documents/Power BI/Challenges/August/Maven/Cafe+Rewards+Offers/customers.csv\")\n",
    "print(c1)\n",
    "print(c1.info)"
   ]
  },
  {
   "cell_type": "code",
   "execution_count": 39,
   "id": "6bd0dcc8-c1c6-49a4-97b3-319eba2bc485",
   "metadata": {},
   "outputs": [
    {
     "name": "stdout",
     "output_type": "stream",
     "text": [
      "                             customer_id           event                                             value  time\n",
      "0       78afa995795e4d85b5d9ceeca43f5fef  offer received  {'offer id': '9b98b8c7a33c4b65b9aebfe6a799e6d9'}     0\n",
      "1       a03223e636434f42ac4c3df47e8bac43  offer received  {'offer id': '0b1e1539f2cc45b7b9fa7c272da2e1d7'}     0\n",
      "2       e2127556f4f64592b11af22de27a7932  offer received  {'offer id': '2906b810c7d4411798c6938adc9daaa5'}     0\n",
      "3       8ec6ce2a7e7949b1bf142def7d0e0586  offer received  {'offer id': 'fafdcd668e3743c1bb461111dcafc2a4'}     0\n",
      "4       68617ca6246f4fbc85e91a2a49552598  offer received  {'offer id': '4d5c57ea9a6940dd891ad53e9dbe8da0'}     0\n",
      "...                                  ...             ...                                               ...   ...\n",
      "306529  b3a1272bc9904337b331bf348c3e8c17     transaction                    {'amount': 1.5899999999999999}   714\n",
      "306530  68213b08d99a4ae1b0dcb72aebd9aa35     transaction                                  {'amount': 9.53}   714\n",
      "306531  a00058cf10334a308c68e7631c529907     transaction                                  {'amount': 3.61}   714\n",
      "306532  76ddbd6576844afe811f1a3c0fbb5bec     transaction                    {'amount': 3.5300000000000002}   714\n",
      "306533  c02b10e8752c4d8e9b73f918558531f7     transaction                                  {'amount': 4.05}   714\n",
      "\n",
      "[306534 rows x 4 columns]\n",
      "<bound method DataFrame.info of                              customer_id           event                                             value  time\n",
      "0       78afa995795e4d85b5d9ceeca43f5fef  offer received  {'offer id': '9b98b8c7a33c4b65b9aebfe6a799e6d9'}     0\n",
      "1       a03223e636434f42ac4c3df47e8bac43  offer received  {'offer id': '0b1e1539f2cc45b7b9fa7c272da2e1d7'}     0\n",
      "2       e2127556f4f64592b11af22de27a7932  offer received  {'offer id': '2906b810c7d4411798c6938adc9daaa5'}     0\n",
      "3       8ec6ce2a7e7949b1bf142def7d0e0586  offer received  {'offer id': 'fafdcd668e3743c1bb461111dcafc2a4'}     0\n",
      "4       68617ca6246f4fbc85e91a2a49552598  offer received  {'offer id': '4d5c57ea9a6940dd891ad53e9dbe8da0'}     0\n",
      "...                                  ...             ...                                               ...   ...\n",
      "306529  b3a1272bc9904337b331bf348c3e8c17     transaction                    {'amount': 1.5899999999999999}   714\n",
      "306530  68213b08d99a4ae1b0dcb72aebd9aa35     transaction                                  {'amount': 9.53}   714\n",
      "306531  a00058cf10334a308c68e7631c529907     transaction                                  {'amount': 3.61}   714\n",
      "306532  76ddbd6576844afe811f1a3c0fbb5bec     transaction                    {'amount': 3.5300000000000002}   714\n",
      "306533  c02b10e8752c4d8e9b73f918558531f7     transaction                                  {'amount': 4.05}   714\n",
      "\n",
      "[306534 rows x 4 columns]>\n"
     ]
    }
   ],
   "source": [
    "e1 = pd.read_csv(\"C:/Users/1993s/OneDrive/Documents/Power BI/Challenges/August/Maven/Cafe+Rewards+Offers/events.csv\")\n",
    "print(e1)\n",
    "print(e1.info)"
   ]
  },
  {
   "cell_type": "code",
   "execution_count": 41,
   "id": "4a064c62-52d6-419f-b227-cae78215ad87",
   "metadata": {},
   "outputs": [
    {
     "name": "stdout",
     "output_type": "stream",
     "text": [
      "                           offer_id     offer_type  difficulty  reward  duration                              channels\n",
      "0  ae264e3637204a6fb9bb56bc8210ddfd           bogo          10      10         7         ['email', 'mobile', 'social']\n",
      "1  4d5c57ea9a6940dd891ad53e9dbe8da0           bogo          10      10         5  ['web', 'email', 'mobile', 'social']\n",
      "2  3f207df678b143eea3cee63160fa8bed  informational           0       0         4            ['web', 'email', 'mobile']\n",
      "3  9b98b8c7a33c4b65b9aebfe6a799e6d9           bogo           5       5         7            ['web', 'email', 'mobile']\n",
      "4  0b1e1539f2cc45b7b9fa7c272da2e1d7       discount          20       5        10                      ['web', 'email']\n",
      "5  2298d6c36e964ae4a3e7e9706d1fb8c2       discount           7       3         7  ['web', 'email', 'mobile', 'social']\n",
      "6  fafdcd668e3743c1bb461111dcafc2a4       discount          10       2        10  ['web', 'email', 'mobile', 'social']\n",
      "7  5a8bc65990b245e5a138643cd4eb9837  informational           0       0         3         ['email', 'mobile', 'social']\n",
      "8  f19421c1d4aa40978ebb69ca19b0e20d           bogo           5       5         5  ['web', 'email', 'mobile', 'social']\n",
      "9  2906b810c7d4411798c6938adc9daaa5       discount          10       2         7            ['web', 'email', 'mobile']\n",
      "<bound method DataFrame.info of                            offer_id     offer_type  difficulty  reward  duration                              channels\n",
      "0  ae264e3637204a6fb9bb56bc8210ddfd           bogo          10      10         7         ['email', 'mobile', 'social']\n",
      "1  4d5c57ea9a6940dd891ad53e9dbe8da0           bogo          10      10         5  ['web', 'email', 'mobile', 'social']\n",
      "2  3f207df678b143eea3cee63160fa8bed  informational           0       0         4            ['web', 'email', 'mobile']\n",
      "3  9b98b8c7a33c4b65b9aebfe6a799e6d9           bogo           5       5         7            ['web', 'email', 'mobile']\n",
      "4  0b1e1539f2cc45b7b9fa7c272da2e1d7       discount          20       5        10                      ['web', 'email']\n",
      "5  2298d6c36e964ae4a3e7e9706d1fb8c2       discount           7       3         7  ['web', 'email', 'mobile', 'social']\n",
      "6  fafdcd668e3743c1bb461111dcafc2a4       discount          10       2        10  ['web', 'email', 'mobile', 'social']\n",
      "7  5a8bc65990b245e5a138643cd4eb9837  informational           0       0         3         ['email', 'mobile', 'social']\n",
      "8  f19421c1d4aa40978ebb69ca19b0e20d           bogo           5       5         5  ['web', 'email', 'mobile', 'social']\n",
      "9  2906b810c7d4411798c6938adc9daaa5       discount          10       2         7            ['web', 'email', 'mobile']>\n"
     ]
    }
   ],
   "source": [
    "o1 = pd.read_csv(\"C:/Users/1993s/OneDrive/Documents/Power BI/Challenges/August/Maven/Cafe+Rewards+Offers/offers.csv\")\n",
    "print(o1)\n",
    "print(o1.info)"
   ]
  },
  {
   "cell_type": "code",
   "execution_count": null,
   "id": "fc0750bc-0f53-48e1-b915-289a036bd6dd",
   "metadata": {},
   "outputs": [],
   "source": []
  }
 ],
 "metadata": {
  "kernelspec": {
   "display_name": "Python 3 (ipykernel)",
   "language": "python",
   "name": "python3"
  },
  "language_info": {
   "codemirror_mode": {
    "name": "ipython",
    "version": 3
   },
   "file_extension": ".py",
   "mimetype": "text/x-python",
   "name": "python",
   "nbconvert_exporter": "python",
   "pygments_lexer": "ipython3",
   "version": "3.12.4"
  }
 },
 "nbformat": 4,
 "nbformat_minor": 5
}
